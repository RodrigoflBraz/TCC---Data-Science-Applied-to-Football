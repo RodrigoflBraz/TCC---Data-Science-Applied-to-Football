{
 "cells": [
  {
   "cell_type": "markdown",
   "metadata": {},
   "source": [
    "#GLOSSÁRIO\n",
    "\n",
    "# J -- Nº de jogadores\n",
    "Número de jogadores utilizados em jogos\n",
    "Idade -- Idade média\n",
    "A idade é ponderada de acordo com os minutos jogados\n",
    "Posse -- Posse de bola\n",
    "Calculada como percentual de tentativas de passe\n",
    "Tempo de jogo\n",
    "MP -- Jogos Disputados\n",
    "Jogos disputados pelo jogador ou grupo\n",
    "Inícios -- Jogo ou jogos jogado(s) pelo jogador\n",
    "Min. -- Minutos\n",
    "90s -- 90 min jogados\n",
    "90s played\n",
    "Minutos jogados dividido por 90\n",
    "Desempenho\n",
    "Gols -- Gols feitos ou auxiliados\n",
    "Assis. -- Assistências\n",
    "Assistências\n",
    "G+A -- Gols + Assistências\n",
    "Gols e assistências\n",
    "G-PB -- Gols normais\n",
    "Gols normais\n",
    "PB -- Pênaltis batidos\n",
    "Pênaltis batidos\n",
    "PT -- Pênaltis tentados\n",
    "Pênaltis tentados\n",
    "CrtsA -- Cartões amarelos\n",
    "Cartões amarelos\n",
    "CrtV -- Cartões vermelhos\n",
    "Cartões vermelhos\n",
    "Esperado\n",
    "xG -- Gols esperados\n",
    "Totais de xG incluem pênaltis, porém não incluem disputas de pênalti (a menos que mencionado o contrário).\n",
    "Fornecido pela Opta.\n",
    "Uma sublinha indica que existe uma partida cujos dados não estão presentes, contudo, tais dados serão atualizados quando disponíveis.\n",
    "npxG -- xG normal\n",
    "Gols normais previstos\n",
    "Fornecido pela Opta.\n",
    "Uma sublinha indica que existe uma partida cujos dados não estão presentes, contudo, tais dados serão atualizados quando disponíveis.\n",
    "xAG -- Gols Assistidos Esperados\n",
    "Ponto xG seguinte a um passe que auxilia em um chute\n",
    "Fornecido pela Opta.\n",
    "Uma sublinha indica que existe uma partida cujos dados não estão presentes, contudo, tais dados serão atualizados quando disponíveis.\n",
    "npxG+xAG -- npxG + xAG\n",
    "Gols esperados, exceto pênaltis, mais gols assistidos\n",
    "Totais de xG incluem pênaltis, porém não incluem disputas de pênalti (a menos que mencionado o contrário).\n",
    "Fornecido pela Opta.\n",
    "Uma sublinha indica que existe uma partida cujos dados não estão presentes, contudo, tais dados serão atualizados quando disponíveis.\n",
    "Mínimo de 30 minutos jogadores por jogo para se qualificar como líder\n",
    "Progressão\n",
    "PrgC -- Carregadas Progressivas\n",
    "Carrega a bola em direção à linha de gol do adversário a pelo menos 9 metros de seu ponto mais distante nos últimos seis passes, ou qualquer carregada para a área de penalidade. Exclui carregadas que terminam nos 50% do campo defensivo\n",
    "PrgP -- Passes Progressivos\n",
    "Passes Progressivos\n",
    "Passes concluídos que movem a bola em direção à linha de gol do adversário a pelo menos 9 metros de seu ponto mais distante nos últimos seis passes, ou qualquer passe concluído para a área de penalidade. Exclui os passes dos 40% do campo defensivo\n",
    "A cada 90 minutos\n",
    "Gols -- Gols/90\n",
    "Média de gols por 90 minutos\n",
    "Mínimo de 30 minutos jogadores por jogo para se qualificar como líder\n",
    "Assis. -- Assistências/90\n",
    "Assistências a cada 90 minutos\n",
    "Mínimo de 30 minutos jogadores por jogo para se qualificar como líder\n",
    "G+A -- Gols + assistências/90\n",
    "Gols e assistências a cada 90 minutos\n",
    "Mínimo de 30 minutos jogadores por jogo para se qualificar como líder\n",
    "G-PB -- Gols normais/90\n",
    "Gols menos pênaltis batidos a cada 90 minutos\n",
    "Mínimo de 30 minutos jogadores por jogo para se qualificar como líder\n",
    "G+A-PB -- Gols normais + assistências/90\n",
    "Gols mais assistências menos pênaltis batidos a cada 90 minutos\n",
    "Mínimo de 30 minutos jogadores por jogo para se qualificar como líder\n",
    "xG -- xG/90\n",
    "Gols previstos por 90 minutos\n",
    "Totais de xG incluem pênaltis, porém não incluem disputas de pênalti (a menos que mencionado o contrário).\n",
    "Fornecido pela Opta.\n",
    "Uma sublinha indica que existe uma partida cujos dados não estão presentes, contudo, tais dados serão atualizados quando disponíveis.\n",
    "Mínimo de 30 minutos jogadores por jogo para se qualificar como líder\n",
    "xAG -- xAG/90\n",
    "Gols assistidos esperados por cada 90 minutos\n",
    "Fornecido pela Opta.\n",
    "Uma sublinha indica que existe uma partida cujos dados não estão presentes, contudo, tais dados serão atualizados quando disponíveis.\n",
    "Mínimo de 30 minutos jogadores por jogo para se qualificar como líder\n",
    "xG+xAG -- xG + xAG/90\n",
    "Gols esperados mais Gols assistidos por cada 90 minutos\n",
    "Totais de xG incluem pênaltis, porém não incluem disputas de pênalti (a menos que mencionado o contrário).\n",
    "Fornecido pela Opta.\n",
    "Uma sublinha indica que existe uma partida cujos dados não estão presentes, contudo, tais dados serão atualizados quando disponíveis.\n",
    "Mínimo de 30 minutos jogadores por jogo para se qualificar como líder\n",
    "npxG -- npxG/90\n",
    "Gols normais previstos por 90 minutos\n",
    "Fornecido pela Opta.\n",
    "Uma sublinha indica que existe uma partida cujos dados não estão presentes, contudo, tais dados serão atualizados quando disponíveis.\n",
    "Mínimo de 30 minutos jogadores por jogo para se qualificar como líder\n",
    "npxG+xAG -- npxG + xAG\n",
    "Gols esperados, exceto pênaltis, mais gols assistidos por cada 90 minutos\n",
    "Fornecido pela Opta.\n",
    "Uma sublinha indica que existe uma partida cujos dados não estão presentes, contudo, tais dados serão atualizados quando disponíveis.\n",
    "Mínimo de 30 minutos jogadores por jogo para se qualificar como líder"
   ]
  },
  {
   "cell_type": "markdown",
   "metadata": {},
   "source": [
    "IMPORTANDO E TRATANDO DADOS"
   ]
  },
  {
   "cell_type": "code",
   "execution_count": 22,
   "metadata": {},
   "outputs": [],
   "source": [
    "import pandas as pd\n",
    "\n",
    "times_liga_b_20_21 = pd.read_excel(\"championship_clubes_20_21.xlsx\", skiprows=1)\n",
    "times_liga_b_21_22 = pd.read_excel(\"championship_clubes_21_22.xlsx\", skiprows=1)\n",
    "times_liga_b_22_23 = pd.read_excel(\"championship_clubes_22_23.xlsx\", skiprows=1)\n",
    "\n",
    "\n",
    "times_liga_a_20_21 = pd.read_excel(\"premier_clubes_20_21.xlsx\", skiprows=1)\n",
    "times_liga_a_21_22 = pd.read_excel(\"premier_clubes_21_22.xlsx\", skiprows=1)\n",
    "times_liga_a_22_23 = pd.read_excel(\"premier_clubes_22_23.xlsx\", skiprows=1)\n",
    "\n",
    "players_liga_b_20_21 = pd.read_excel(\"championship_players_20_21.xlsx\", skiprows=1)\n",
    "players_liga_b_21_22 = pd.read_excel(\"championship_players_21_22.xlsx\", skiprows=1)\n",
    "players_liga_b_22_23 = pd.read_excel(\"championship_players_22_23.xlsx\", skiprows=1)\n",
    "\n",
    "players_liga_a_20_21 = pd.read_excel(\"premier_players_20_21.xlsx\" , skiprows=1)\n",
    "players_liga_a_21_22 = pd.read_excel(\"premier_players_21_22.xlsx\", skiprows=1)\n",
    "players_liga_a_22_23 = pd.read_excel(\"premier_players_22_23.xlsx\", skiprows=1)\n",
    "\n",
    "dfs_times = [times_liga_b_20_21, times_liga_b_21_22, times_liga_b_22_23, times_liga_a_20_21, times_liga_a_21_22, times_liga_a_22_23]\n",
    "dfs_players = [players_liga_b_20_21, players_liga_b_21_22, players_liga_b_22_23, players_liga_a_20_21, players_liga_a_21_22, players_liga_a_22_23]"
   ]
  },
  {
   "cell_type": "code",
   "execution_count": 23,
   "metadata": {},
   "outputs": [
    {
     "data": {
      "text/plain": [
       "Index(['Class.', 'Jogador', 'Nação', 'Pos.', 'Equipe', 'Idade', 'Nascimento',\n",
       "       'MP', 'Inícios', 'Min.', '90s', 'Gols', 'Assis.', 'G+A', 'G-PB', 'PB',\n",
       "       'PT', 'CrtsA', 'CrtV', 'xG', 'npxG', 'xAG', 'npxG+xAG', 'PrgC', 'PrgP',\n",
       "       'PrgR', 'Gols.1', 'Assis..1', 'G+A.1', 'G-PB.1', 'G+A-PB', 'xG.1',\n",
       "       'xAG.1', 'xG+xAG', 'npxG.1', 'npxG+xAG.1', 'Partidas'],\n",
       "      dtype='object')"
      ]
     },
     "execution_count": 23,
     "metadata": {},
     "output_type": "execute_result"
    }
   ],
   "source": [
    "players_liga_b_21_22.columns"
   ]
  },
  {
   "cell_type": "markdown",
   "metadata": {},
   "source": [
    "GERANDO MÉDIAS DE GOLS GERAL\n"
   ]
  },
  {
   "cell_type": "code",
   "execution_count": 24,
   "metadata": {},
   "outputs": [
    {
     "data": {
      "text/plain": [
       "52.37083333333334"
      ]
     },
     "execution_count": 24,
     "metadata": {},
     "output_type": "execute_result"
    }
   ],
   "source": [
    "media_gols_times_geral = 0\n",
    "for df in dfs_times:\n",
    "    media_gols_times_geral+= df['Gols'].mean()\n",
    "\n",
    "media_gols_times_geral = media_gols_times_geral / len(dfs_times)\n",
    "media_gols_times_geral"
   ]
  },
  {
   "cell_type": "markdown",
   "metadata": {},
   "source": [
    "MÉDIA DE GOLS SÉRIE A"
   ]
  },
  {
   "cell_type": "code",
   "execution_count": 25,
   "metadata": {},
   "outputs": [
    {
     "data": {
      "text/plain": [
       "51.03333333333334"
      ]
     },
     "execution_count": 25,
     "metadata": {},
     "output_type": "execute_result"
    }
   ],
   "source": [
    "media_gols_serie_a = (times_liga_a_20_21['Gols'].mean() + times_liga_a_21_22['Gols'].mean() + times_liga_a_22_23['Gols'].mean()) / 3\n",
    "media_gols_serie_a"
   ]
  },
  {
   "cell_type": "markdown",
   "metadata": {},
   "source": [
    "MÉDIA DE GOLS SÉRIE B"
   ]
  },
  {
   "cell_type": "code",
   "execution_count": 26,
   "metadata": {},
   "outputs": [
    {
     "data": {
      "text/plain": [
       "53.708333333333336"
      ]
     },
     "execution_count": 26,
     "metadata": {},
     "output_type": "execute_result"
    }
   ],
   "source": [
    "media_gols_serie_b = (times_liga_b_20_21['Gols'].mean() + times_liga_b_21_22['Gols'].mean() + times_liga_b_22_23['Gols'].mean()) / 3\n",
    "media_gols_serie_b"
   ]
  },
  {
   "cell_type": "markdown",
   "metadata": {},
   "source": [
    "PLOTANDO UM GRÁFICO DAS MÉDIAS DE GOLS"
   ]
  },
  {
   "cell_type": "code",
   "execution_count": 27,
   "metadata": {},
   "outputs": [
    {
     "data": {
      "image/png": "[encoded data removed]",
      "text/plain": [
       "<Figure size 640x480 with 1 Axes>"
      ]
     },
     "metadata": {},
     "output_type": "display_data"
    }
   ],
   "source": [
    "import matplotlib.pyplot as plt\n",
    "import seaborn as sns\n",
    "\n",
    "medias = [media_gols_times_geral, media_gols_serie_a, media_gols_serie_b]\n",
    "labels = ['Média Gols Times Geral', 'Média Gols Série A', 'Média Gols Série B']\n",
    "\n",
    "plt.bar(labels, medias)\n",
    "\n",
    "plt.xlabel('Séries de Futebol')\n",
    "plt.ylabel('Média de Gols')\n",
    "\n",
    "plt.show()\n"
   ]
  },
  {
   "cell_type": "code",
   "execution_count": 28,
   "metadata": {},
   "outputs": [],
   "source": [
    "df_jogadores_serie_b_para_b = pd.merge(players_liga_b_20_21, players_liga_b_21_22, on = 'Jogador', how = 'inner')\n",
    "df_jogadores_serie_a_para_a = pd.merge(players_liga_a_20_21, players_liga_a_21_22, on = 'Jogador', how = 'inner')\n",
    "\n",
    "df_jogadores_serie_a_para_b = pd.merge(players_liga_a_20_21, players_liga_b_21_22, on = 'Jogador', how = 'inner')\n",
    "df_jogadores_serie_b_para_a = pd.merge(players_liga_b_20_21, players_liga_a_21_22, on = 'Jogador', how = 'inner')"
   ]
  },
  {
   "cell_type": "code",
   "execution_count": 41,
   "metadata": {},
   "outputs": [],
   "source": [
    "jogadores_a_para_a = df_jogadores_serie_a_para_a['Jogador'].unique().tolist()\n",
    "tamanho_a_para_a = len(df_jogadores_serie_a_para_a)\n",
    "\n",
    "jogadores_b_para_b = df_jogadores_serie_b_para_b['Jogador'].unique().tolist()\n",
    "tamanho_b_para_b = len(jogadores_b_para_b)\n",
    "\n",
    "jogadores_a_para_b = df_jogadores_serie_a_para_b['Jogador'].unique().tolist()\n",
    "tamanho_a_para_b = len(jogadores_a_para_b)\n",
    "\n",
    "jogadores_b_para_a = df_jogadores_serie_b_para_a['Jogador'].unique().tolist()\n",
    "tamanho_b_para_a = len(jogadores_b_para_a)"
   ]
  },
  {
   "cell_type": "code",
   "execution_count": 43,
   "metadata": {},
   "outputs": [
    {
     "data": {
      "text/plain": [
       "79"
      ]
     },
     "execution_count": 43,
     "metadata": {},
     "output_type": "execute_result"
    }
   ],
   "source": [
    "tamanho_b_para_a"
   ]
  },
  {
   "cell_type": "code",
   "execution_count": 45,
   "metadata": {},
   "outputs": [
    {
     "name": "stdout",
     "output_type": "stream",
     "text": [
      "\n",
      "Quantidade de Jogadores que permaneceram na série a: 364, Jogadores:['Che Adams', 'Rayan Aït Nouri', 'Nathan Aké', 'Marc Albrighton', 'Thiago Alcántara', 'Trent Alexander-Arnold', 'Alisson', 'Allan', 'Dele Alli', 'Miguel Almirón', 'Marcos Alonso', 'Steven Alzate', 'Daniel Amartey', 'Joachim Andersen', 'Michail Antonio', 'Alphonse Areola', 'Stuart Armstrong', 'Kepa Arrizabalaga', 'Pierre-Emerick Aubameyang', 'Jordan Ayew', 'Luke Ayling', 'César Azpilicueta', 'Eric Bailly', 'Patrick Bamford', 'Ross Barkley', 'Ashley Barnes', 'Harvey Barnes', 'Jan Bednarek', 'Donny van de Beek', 'Saïd Benrahma', 'Christian Benteke', 'Jóhann Berg Guðmundsson', 'Steven Bergwijn', 'Ryan Bertrand', 'Yves Bissouma', 'Willy Boly', 'Jarrod Bowen', 'Josh Brownhill', 'Dan Burn', 'Jack Butland', 'Willy Caballero', 'Dominic Calvert-Lewin', 'João Cancelo', 'Matty Cash', 'Timothy Castagne', 'Jonny Castro', 'Edinson Cavani', 'Calum Chambers', 'Ben Chilwell', 'Hamza Choudhury', 'Andreas Christensen', 'Carney Chukwuemeka', 'Ciaran Clark', 'Nathaniel Clyne', 'Conor Coady', 'Séamus Coleman', 'Aaron Connolly', 'Liam Cooper', 'Jack Cork', 'Hélder Costa', 'Vladimír Coufal', 'Aaron Cresswell', 'Stuart Dallas', 'Karl Darlow', 'Ben Davies', 'Tom Davies', 'Keinan Davis', 'Craig Dawson', 'Kevin De Bruyne', 'Liam Delap', 'Fabian Delph', 'Leander Dendoncker', 'Ibrahima Diallo', 'Rúben Dias', 'Eric Dier', 'Lucas Digne', 'Issa Diop', 'Moussa Djenepo', 'Matt Doherty', 'Gabriel Dos Santos', 'Abdoulaye Doucouré', 'Martin Dúbravka', 'Paul Dummett', 'Lewis Dunk', 'Ederson', 'Anthony Elanga', 'Mohamed Elneny', 'Jonny Evans', 'Eberechi Eze', 'Łukasz Fabiański', 'Fabinho', 'Bruno Fernandes', 'Federico Fernández', 'Fernandinho', 'Roberto Firmino', 'Phil Foden', 'Wesley Fofana', 'Pablo Fornals', 'Fraser Forster', 'Ryan Fraser', 'Fred', 'Ryan Fredericks', 'Conor Gallagher', 'Dwight Gayle', 'Jean-Philippe Gbamin', 'David de Gea', 'Anwar El Ghazi', 'Morgan Gibbs-White', 'Billy Gilmour', 'Ben Godfrey', 'André Gomes', 'Joe Gomez', 'Anthony Gordon', 'Demarai Gray', 'Jack Grealish', 'Mason Greenwood', 'Pascal Groß', 'Vicente Guaita', 'İlkay Gündoğan', 'Jack Harrison', 'Kortney Hause', 'Kai Havertz', 'Isaac Hayden', 'Jordan Henderson', 'Jeff Hendrick', 'Son Heung-min', 'Ki-Jana Hoever', 'Rob Holding', 'Mason Holgate', 'Callum Hudson-Odoi', 'Pierre Højbjerg', 'Kelechi Iheanacho', 'Danny Ings', 'Alex Iwobi', 'Daniel James', 'Reece James', 'Gabriel Jesus', 'Raúl Jiménez', 'Joelinton', 'Ben Johnson', 'Curtis Jones', 'Jorginho', 'Diogo Jota', 'James Justin', 'Ozan Kabak', 'Harry Kane', \"N'Golo Kanté\", 'Moise Kean', 'Michael Keane', 'Naby Keïta', 'Caoimhín Kelleher', 'Jonjoe Kenny', 'Max Kilman', 'Joshua King', 'Mateusz Klich', 'Robin Koch', 'Sead Kolašinac', 'Ezri Konsa', 'Cheikhou Kouyaté', 'Mateo Kovačić', 'Emil Krafth', 'Alexandre Lacazette', 'Adam Lallana', 'Tariq Lamptey', 'Manuel Lanzini', 'Aymeric Laporte', 'Jamaal Lascelles', 'Bernd Leno', 'Jamal Lewis', 'Victor Lindelöf', 'Jesse Lingard', 'Diego Llorente', 'Hugo Lloris', 'Giovani Lo Celso', 'Ruben Loftus-Cheek', 'Kevin Long', 'Shane Long', 'Sean Longstaff', 'Ademola Lookman', 'Matthew Lowton', 'Douglas Luiz', 'Alexis Mac Allister', 'James Maddison', 'Harry Maguire', 'Riyad Mahrez', 'Ainsley Maitland-Niles', 'Sadio Mané', 'Javier Manquillo', 'Fernando Marçal', 'Solly March', 'Pablo Marí', 'Anthony Martial', 'Gabriel Martinelli', 'Emiliano Martínez', 'Arthur Masuaku', 'Juan Mata', 'Jean-Philippe Mateta', 'Nemanja Matić', 'Joël Matip', 'Neal Maupay', 'James McArthur', 'Alex McCarthy', 'John McGinn', 'Dwight McNeil', 'Scott McTominay', 'Ben Mee', 'Hannibal Mejbri', 'Benjamin Mendy', 'Edouard Mendy', 'Nampalys Mendy', 'Illan Meslier', 'Luka Milivojević', 'James Milner', 'Yerry Mina', 'Takumi Minamino', 'Tyrone Mings', 'Tyrick Mitchell', 'Jakub Moder', 'Wesley Moraes', 'Mason Mount', 'Lucas Moura', 'João Moutinho', 'Jacob Murphy', 'Marvelous Nakamba', 'Wilfred Ndidi', 'Tanguy Ndombele', 'Reiss Nelson', 'Pedro Neto', 'Rúben Neves', 'Eddie Nketiah', 'Mark Noble', 'Angelo Ogbonna', 'Robin Olsen', 'Divock Origi', 'Alex Oxlade-Chamberlain', 'Emerson Palmieri', 'Thomas Partey', 'Nicolas Pépé', 'Ricardo Pereira', 'Ayoze Pérez', 'Kalvin Phillips', 'Jaden Philogene Bidace', 'Jordan Pickford', 'Erik Pieters', 'Daniel Podence', 'Paul Pogba', 'Nick Pope', 'Christian Pulisic', 'Aaron Ramsdale', 'Jacob Ramsey', 'Raphinha', 'Marcus Rashford', 'Nathan Redmond', 'Sergio Reguilón', 'Declan Rice', 'Richarlison', 'Jaïro Riedewald', 'Matt Ritchie', 'Tyler Roberts', 'Andrew Robertson', 'Joe Rodon', 'Rodri', 'Rodrigo', 'Jay Rodriguez', 'Oriol Romeu', 'John Ruddy', 'Antonio Rüdiger', 'Allan Saint-Maximin', 'Romain Saïss', 'Bukayo Saka', 'Mohamed Salah', 'Mohammed Salisu', 'Davinson Sánchez', 'Robert Sánchez', 'Morgan Sanson', 'Dane Scarlett', 'Fabian Schär', 'Jeffrey Schlupp', 'Kasper Schmeichel', 'Nélson Semedo', 'Jamie Shackleton', 'Luke Shaw', 'Jonjo Shelvey', 'Shola Shoretire', 'Bernardo Silva', 'Fábio Silva', 'Thiago Silva', 'Moussa Sissoko', 'William Smallbone', 'Emile Smith Rowe', 'Cédric Soares', 'Tomáš Souček', 'Çağlar Söyüncü', 'Zack Steffen', 'Dale Stephens', 'Jack Stephens', 'Raheem Sterling', 'John Stones', 'Pascal Struijk', 'Japhet Tanganga', 'Matt Targett', 'James Tarkowski', 'Charlie Taylor', 'Nathan Tella', 'Alex Telles', 'Luke Thomas', 'Youri Tielemans', 'Kieran Tierney', 'James Tomkins', 'Ferrán Torres', 'Cenk Tosun', 'Andros Townsend', 'Adama Traoré', 'Bertrand Traoré', 'Trézéguet', 'Leandro Trossard', 'Kostas Tsimikas', 'Axel Tuanzebe', 'Yan Valery', 'Virgil van Dijk', 'Jamie Vardy', 'Joël Veltman', 'Jannik Vestergaard', 'Matěj Vydra', 'Theo Walcott', 'Kyle Walker', 'Kyle Walker-Peters', 'Aaron Wan-Bissaka', 'Joel Ward', 'James Ward-Prowse', 'Ollie Watkins', 'Adam Webster', 'Danny Welbeck', 'Timo Werner', 'Ashley Westwood', 'Ben White', 'Brandon Williams', 'Neco Williams', 'Joe Willock', 'Callum Wilson', 'Harry Winks', 'Chris Wood', 'Granit Xhaka', 'Andriy Yarmolenko', 'Wilfried Zaha', 'Oleksandr Zinchenko', 'Hakim Ziyech', 'Kurt Zouma', 'Martin Ødegaard']\n",
      "Quantidade de Jogadores que permaneceram na série b: 384 , Jogadores: ['Rolando Aarons', 'Elijah Adebayo', 'Victor Adeboyejo', 'Albert Adomah', 'Chuba Akpom', 'Jamie Allen', 'Joe Allen', 'Ryan Allsop', 'Luke Amos', 'Jaidon Anthony', 'Felipe Araruna', 'Charlie Austin', 'Daniel Ayala', 'Femi Azeez', 'Juninho Bacuna', 'Leandro Bacuna', 'Joel Bagan', 'Nathan Baker', 'Tyreeq Bakinson', 'Sam Baldock', 'Dominic Ball', 'Sol Bamba', 'Yoann Barbet', 'Tom Barkhuizen', 'Danny Batth', 'Patrick Bauer', 'Jérémie Bela', \"Amari'i Bell\", 'Sam Bell', 'Steven Benda', 'Mason Bennett', 'Ryan Bennett', 'Daniel Bentley', 'Luke Berry', 'Bartosz Białkowski', 'Jake Bidwell', 'Krystian Bielik', 'Philip Billing', 'Max Bird', 'Jamal Blackman', 'Marc Bola', 'Gaëtan Bong', 'Caolan Boyd-Munce', 'Sonny Bradley', 'Tom Bradshaw', 'James Bree', 'Ben Brereton', 'Callum Brittain', 'David Brooks', 'Ciaron Brown', 'Jacob Brown', 'Alan Browne', 'Lee Buchanan', 'John Buckley', 'Tyler Burey', 'Josef Bursik', 'Daniel Butterworth', 'Nathan Byrne', 'Ben Cabango', 'Rafael Cabral', 'Cafú', 'Mamadi Camará', 'Fraizer Campbell', 'Tyrese Campbell', 'Todd Cantwell', 'Hayden Carter', 'Ilias Chair', 'Nathaniel Chalobah', 'Harry Chapman', 'James Chester', 'Cyrus Christie', 'Jordan Clark', 'Matthew Clarke', 'Jake Clarke-Salter', 'Sam Clucas', 'Josh Coburn', 'Jack Colback', 'Maxime Colin', 'Bradley Collins', 'James Collins', 'Rubin Colwill', 'Tommy Conway', 'Lewis Cook', 'Steve Cook', 'Brandon Cooper', 'Jake Cooper', 'Harry Cornick', 'Hayden Coulson', 'Matt Crooks', 'Liam Cullen', 'Greg Cunningham', 'Fankaty Dabo', 'Bradley Dack', 'Julien Dacosta', 'Luke Daniels', 'Jay Dasilva', 'Jacob Davenport', 'Adam Davies', 'Ben Davies', 'Curtis Davies', 'Harlee Dean', 'Troy Deeney', 'Tom Dele-Bashiru', 'Sepp van den Berg', 'Yan Dhanda', 'Robert Dickie', 'Seny Dieng', 'Anfernee Dijksteel', 'Daryl Dike', 'Tyrhys Dolan', 'Demeaco Duhaney', 'Lyndon Dykes', 'Josh Earl', 'Festy Ebosele', 'Josh Eccles', 'Carel Eiting', 'Ovie Ejaria', 'Neil Etheridge', 'Ched Evans', 'George Evans', 'Sam Field', 'Tobias Figueiredo', 'Steven Fletcher', 'Aden Flint', 'William Forrester', 'Marcus Forss', 'Craig Forsyth', 'Morgan Fox', 'Luke Freeman', 'George Friend', 'Dominik Frieser', 'Dael Fry', 'Jay Fulton', 'Jordan Gabriel', 'Sam Gallagher', 'Gary Gardner', 'James Garner', 'Morgan Gibbs-White', 'Matthew Godden', 'Charlie Goode', 'Nico Gordon', 'Lewis Grabban', 'Andre Gray', 'Matt Grimes', 'Viktor Gyökeres', 'Alen Halilović', 'Grant Hall', 'Aapo Halme', 'Ben Hamer', 'Gustavo Hamer', 'Mark Harris', 'Taylor Harwood-Bellis', 'Michał Helik', 'Onel Hernández', 'Scott High', 'Scott Hogan', 'Jonathan Hogg', 'Junior Hoilett', 'Duane Holmes', 'Tom Holmes', 'Conor Hourihane', 'Jonny Howson', 'Andrew Hughes', 'Jordan Hugill', 'Paul Huntington', 'Shaun Hutchinson', 'Dominic Hyam', 'Danny Hylton', 'Uche Ikpeazu', 'Tom Ince', 'Daniel Iversen', 'Matty James', 'Saikou Janneh', 'Zach Jeacock', 'Lucas João', 'Stefan Johansen', 'Ryan John Giles', 'Bradley Johnson', 'Daniel Johnson', 'Kamil Jóźwiak', 'Mads Juel Andersen', 'Lukas Jutkiewicz', 'Osman Kakay', 'Tomáš Kalas', 'Thomas Kaminski', 'Todd Kane', 'Colin Kazim-Richards', 'Neeskens Kebano', 'Liam Kelly', 'Lloyd Kelly', 'Charlie Kelman', 'Richard Keogh', 'Maikel Kieftenbeld', 'Gavin Kilkenny', 'Liam Kitching', 'Jason Knight', 'Josh Knight', 'Anthony Knockaert', 'Josh Koroma', 'Henri Lansbury', 'Joël Latibeaudière', 'Josh Laurent', 'Tom Lawrence', 'Ryan Ledson', 'Tom Lees', 'Jonathan Leko', 'Darragh Lenihan', 'Ryan Leonard', 'Jefferson Lerma', 'Liam Lindsay', 'Tom Lockyer', 'Joe Lolley', 'Jamal Lowe', 'Joe Lumley', 'Seán Maguire', 'Connor Mahoney', 'Scott Malone', 'Ryan Manning', 'Emiliano Marcondes', 'Jack Marriott', 'David Marshall', 'Chris Martin', 'Han-Noah Massengo', 'Alfie Mawson', 'Loïc Mbe Soh', 'Sam McCallum', 'Kyle McFadzean', 'Riley McGree', 'Tom McIntyre', 'Scott McKenna', 'Paddy McNair', 'Dan McNamara', 'Yakou Méïte', 'Teden Mengi', 'Chris Mepham', 'Alex Mighten', 'Billy Mitchell', 'Jayson Molumby', 'George Moncur', 'Jasper Moon', 'Kieffer Moore', 'Liam Moore', 'Carlton Morris', 'Michael Morrison', 'Sean Morrison', 'Sam Morsy', 'Alex Mowatt', 'Bali Mumba', 'Josh Murphy', 'Admiral Muskwe', 'Kal Naismith', 'Kyle Naughton', 'Curtis Nelson', 'Perry Ng', 'Rhys Norrington-Davies', 'Ryan Nyambe', \"Lewis O'Brien\", \"Callum O'Dowda\", \"Callum O'Hare\", \"Max O'Leary\", 'Moses Odubajo', 'Clarke Oduor', 'Sheyi Ojo', 'Matthew Olosunde', 'Fred Onyedinma', 'Jordi Osei-Tutu', 'Marlon Pack', 'Kasey Palmer', 'Romal Palmer', 'Jamie Paterson', 'Alex Pearce', 'Aynsley Pears', 'Ben Pearson', 'Matty Pearson', 'Kristian Pedersen', 'Dillon Phillips', 'Pipa', 'Brad Potts', 'Dan Potts', 'Nick Powell', 'George Pușcaș', 'Domingos Quina', 'Joe Rafferty', 'Joe Ralls', 'Joe Rankin-Costello', 'Glen Rea', 'Adam Reach', 'Jordan Rhodes', 'Emil Riis Jakobsen', 'Andy Rinomhota', 'Marc Roberts', 'Jack Robinson', 'Mahlon Romeo', 'Kelle Roos', 'Michael Rose', 'Joe Rothwell', 'Aaron Rowe', 'Declan Rudd', 'Pelly Ruddock Mpanzu', 'Brice Samba', 'Iván Sánchez', 'Thomas Sang', 'Mouhamadou-Naby Sarr', 'George Saville', 'Ryan Schofield', 'Alex Scott', 'Antoine Semenyo', 'James Shea', 'Ben Sheaf', 'Graeme Shinnie', 'Jordan Shipley', 'Toby Sibbick', 'Louie Sibley', 'Danny Simpson', 'Scott Sinclair', 'Leo Skiri Østigård', 'Simon Sluga', 'Adam Smith', 'Korey Smith', 'Matt Smith', 'Tommy Smith', 'Alex Smithies', 'Dominic Solanke', 'Luke Southwood', 'Harry Souttar', 'Djed Spence', 'Jack Stacey', 'Junior Stanislas', 'Richard Stearman', 'Jordan Storey', 'Jack Stretton', 'Callum Styles', 'Ivan Šunjić', 'Sam Surridge', 'John Swift', 'Marcus Tavernier', 'Lyle Taylor', 'Dejan Tetek', 'George Thomas', 'Sorba Thomas', 'Ben Thompson', 'Jordan Thompson', 'Harry Toffolo', 'Ryley Towler', 'Mark Travers', 'Lewis Travis', 'Connal Trueman', 'Josh Tymon', 'Álex Vallejo', 'Will Vaulks', 'Mario Vrančić', 'Zak Vyner', 'Martyn Waghorn', 'Tyler Walker', 'Jed Wallace', 'Lee Wallace', 'Murray Wallace', 'Liam Walsh', 'Jack Walton', 'Danny Ward', 'Duncan Watmore', 'Louie Watson', 'Max Watters', 'Andreas Weimann', 'Nahki Wells', 'Keiren Westwood', 'Scott Wharton', 'Ben Whiteman', 'Morgan Whittaker', 'Jordy de Wijs', 'Joe Williams', 'Jordan Williams', 'Chris Willock', 'Ben Wilmot', 'Ben Wilson', 'Harry Wilson', 'Cauley Woodrow', 'Ryan Woods', 'Joe Worrall', 'Ryan Yates', 'Andy Yiadom', 'Jordan Zemura', 'Philip Zinckernagel', 'Kenneth Zohore']\n",
      "Quantidade de Jogadores que jogaram na série a, e foram para b: 84 , Jogadores: ['Tosin Adarabioyo', 'Semi Ajayi', 'Charlie Austin', 'George Baldock', 'Kyle Bartley', 'Chris Basham', 'Josh Benson', 'Sander Berge', 'Jayden Bogle', 'Robbie Brady', 'Rhian Brewster', 'Joe Bryan', 'Kean Bryan', 'Oliver Burke', 'David Button', 'Gary Cahill', 'Tom Cairney', 'Ian Carlo Poveda', 'Andy Carroll', 'Fabio Carvalho', 'Ivan Cavaleiro', 'Aaron Connolly', 'Scott Dann', 'Ben Davies', 'Keinan Davis', 'Leif Davis', 'Grady Diangana', 'Jimmy Dunne', 'John Egan', 'Sam Field', 'John Fleck', 'Tyrese Francois', 'Darnell Furlong', 'Morgan Gibbs-White', 'Karlan Grant', 'Michael Hector', 'Jeff Hendrick', 'Conor Hourihane', 'Phil Jagielka', 'Reece James', 'Daniel Jebbison', 'Sam Johnstone', 'Aboubakar Kamara', 'Neeskens Kebano', 'Reda Khadra', 'Jake Livermore', 'Max Lowe', 'Josh Maja', 'Oliver McBurnie', 'David McGoldrick', 'Aleksandar Mitrović', 'Jayson Molumby', 'Lys Mousset', 'Iliman Ndiaye', 'Oliver Norwood', \"Dara O'Shea\", 'Michael Obafemi', 'Denis Odoi', 'Robin Olsen', 'Josh Onomah', 'Ben Osborn', 'Lee Peltier', 'Matt Phillips', 'Nathaniel Phillips', 'Jaden Philogene Bidace', 'Aaron Ramsdale', 'Tim Ream', 'Harrison Reed', 'Bobby Reid', 'Antonee Robinson', 'Callum Robinson', 'Jack Robinson', 'Marek Rodák', 'Romaine Sawyers', 'Femi Seriki', 'Billy Sharp', 'Robert Snodgrass', 'Enda Stevens', 'Neil Taylor', 'Kenny Tete', 'Conor Townsend', 'Neco Williams', 'Rhys Williams', 'Andre-Frank Zambo Anguissa']\n",
      "Quantidade de Jogadores que jogaram na série b, e foram para a: 79 , Jogadores: ['Max Aarons', 'Adam Armstrong', 'Daniel Bachmann', 'Shandon Baptiste', 'Mads Bech Sørensen', 'Asmir Begović', 'Saïd Benrahma', 'Mads Bidstrup', 'Jarrad Branthwaite', 'Emi Buendía', 'Sergi Canós', 'Todd Cantwell', 'Craig Cathcart', 'Tom Cleverley', 'Nathan Collins', 'Josh Dasilva', 'Ben Davies', 'Troy Deeney', 'Kiernan Dewsbury-Hall', 'Kieran Dowell', 'Harvey Elliott', 'Kiko Femenía', 'Ashley Fletcher', 'Marcus Forss', 'Ben Foster', 'Tariqe Fosu', 'Saman Ghoddos', 'Dimitris Giannoulis', 'Morgan Gibbs-White', 'Ben Gibson', 'Ben Godfrey', 'Charlie Goode', 'Anthony Gordon', 'Kaide Gordon', 'Dan Gosling', 'Marc Guéhi', 'Angus Gunn', 'Grant Hanley', 'Rico Henry', 'Will Hughes', 'Adam Idah', 'Vitaly Janelt', 'Pontus Jansson', 'Mathias Jensen', 'João Pedro', 'Christian Kabasele', 'Joshua King', 'Tim Krul', 'Shane Long', 'Adam Masina', 'Bryan Mbeumo', 'Kenny McLean', 'Bali Mumba', 'Jeremy Ngakia', 'Christian Nørgaard', 'Michael Olise', 'Andrew Omobamidele', 'Ethan Pinnock', 'Teemu Pukki', 'Przemysław Płacheta', 'David Raya', 'Connor Roberts', 'Joe Rodon', 'Mads Roerslev', 'Lukas Rupp', 'Ismaila Sarr', 'Ken Sema', 'Francisco Sierralta', 'Oliver Skipp', 'Finley Stevens', 'Jakob Sørensen', 'Luke Thomas', 'Dominic Thompson', 'Ivan Toney', 'William Troost-Ekong', 'Yan Valery', 'Danny Ward', 'Freddie Woodman', 'Christoph Zimmermann']\n",
      "\n",
      "\n"
     ]
    }
   ],
   "source": [
    "print(f\"\"\"\n",
    "Quantidade de Jogadores que permaneceram na série a: {tamanho_a_para_a}, Jogadores:{jogadores_a_para_a}\n",
    "Quantidade de Jogadores que permaneceram na série b: {tamanho_b_para_b} , Jogadores: {jogadores_b_para_b}\n",
    "Quantidade de Jogadores que jogaram na série a, e foram para b: {tamanho_a_para_b} , Jogadores: {jogadores_a_para_b}\n",
    "Quantidade de Jogadores que jogaram na série b, e foram para a: {tamanho_b_para_a} , Jogadores: {jogadores_b_para_a}\n",
    "\n",
    "\"\"\")"
   ]
  },
  {
   "cell_type": "code",
   "execution_count": 30,
   "metadata": {},
   "outputs": [
    {
     "name": "stdout",
     "output_type": "stream",
     "text": [
      "\n",
      "Média de gols de jogadores que jogaram na a, e se mantiveram na série a: 2.2664835164835164     \n",
      "Média de gols de jogadores que jogaram na b, e se mantiveram na série b: 2.1333333333333333     \n",
      "Média de gols de jogadores que jogaram na série a, e foram para b: 2.5555555555555554\n",
      "Média de gols de jogadores que jogaram na série b, e foram para a: 1.2    \n",
      "      \n"
     ]
    }
   ],
   "source": [
    "media_gols_a_para_a = df_jogadores_serie_a_para_a['Gols_y'].mean()\n",
    "media_gols_b_para_b = df_jogadores_serie_b_para_b['Gols_y'].mean()\n",
    "\n",
    "media_gols_a_para_b = df_jogadores_serie_a_para_b['Gols_y'].mean()\n",
    "media_gols_b_para_a = df_jogadores_serie_b_para_a['Gols_y'].mean()\n",
    "\n",
    "\n",
    "print(f\"\"\"\n",
    "Média de gols de jogadores que jogaram na a, e se mantiveram na série a: {media_gols_a_para_a}     \n",
    "Média de gols de jogadores que jogaram na b, e se mantiveram na série b: {media_gols_b_para_b}     \n",
    "Média de gols de jogadores que jogaram na série a, e foram para b: {media_gols_a_para_b}\n",
    "Média de gols de jogadores que jogaram na série b, e foram para a: {media_gols_b_para_a}    \n",
    "      \"\"\")"
   ]
  },
  {
   "cell_type": "code",
   "execution_count": 32,
   "metadata": {},
   "outputs": [
    {
     "data": {
      "image/png": "[encoded data removed]",
      "text/plain": [
       "<Figure size 1000x600 with 1 Axes>"
      ]
     },
     "metadata": {},
     "output_type": "display_data"
    }
   ],
   "source": [
    "import warnings\n",
    "\n",
    "warnings.filterwarnings('ignore')\n",
    "\n",
    "# Definir os dados\n",
    "medias = [media_gols_a_para_a, media_gols_b_para_b, media_gols_a_para_b, media_gols_b_para_a]\n",
    "categorias = ['A para A', 'B para B', 'A para B', 'B para A']\n",
    "\n",
    "# Criar o gráfico de barras\n",
    "plt.figure(figsize=(10, 6))\n",
    "sns.barplot(x=categorias, y=medias, palette='viridis')\n",
    "plt.title('Médias de Gols por Transição de Ligas')\n",
    "plt.xlabel('Transição de Ligas')\n",
    "plt.ylabel('Média de Gols')\n",
    "plt.show()\n"
   ]
  },
  {
   "cell_type": "markdown",
   "metadata": {},
   "source": [
    "Podemos notar que, A maior média de gols foi a dos jogadores que sairam da série A, e foram jogar na série B. E a menor média foi justamente a dos jogadores que sairam da série B e foram para série A.\n"
   ]
  },
  {
   "cell_type": "code",
   "execution_count": null,
   "metadata": {},
   "outputs": [],
   "source": [
    "#Agora vamos saber o número de assistências por grupo"
   ]
  }
 ],
 "metadata": {
  "kernelspec": {
   "display_name": "Python 3",
   "language": "python",
   "name": "python3"
  },
  "language_info": {
   "codemirror_mode": {
    "name": "ipython",
    "version": 3
   },
   "file_extension": ".py",
   "mimetype": "text/x-python",
   "name": "python",
   "nbconvert_exporter": "python",
   "pygments_lexer": "ipython3",
   "version": "3.9.0"
  },
  "orig_nbformat": 4
 },
 "nbformat": 4,
 "nbformat_minor": 2
}
