{
 "cells": [
  {
   "cell_type": "markdown",
   "metadata": {},
   "source": [
    "#GLOSSÁRIO\n",
    "\n",
    "# J -- Nº de jogadores\n",
    "Número de jogadores utilizados em jogos\n",
    "Idade -- Idade média\n",
    "A idade é ponderada de acordo com os minutos jogados\n",
    "Posse -- Posse de bola\n",
    "Calculada como percentual de tentativas de passe\n",
    "Tempo de jogo\n",
    "MP -- Jogos Disputados\n",
    "Jogos disputados pelo jogador ou grupo\n",
    "Inícios -- Jogo ou jogos jogado(s) pelo jogador\n",
    "Min. -- Minutos\n",
    "90s -- 90 min jogados\n",
    "90s played\n",
    "Minutos jogados dividido por 90\n",
    "Desempenho\n",
    "Gols -- Gols feitos ou auxiliados\n",
    "Assis. -- Assistências\n",
    "Assistências\n",
    "G+A -- Gols + Assistências\n",
    "Gols e assistências\n",
    "G-PB -- Gols normais\n",
    "Gols normais\n",
    "PB -- Pênaltis batidos\n",
    "Pênaltis batidos\n",
    "PT -- Pênaltis tentados\n",
    "Pênaltis tentados\n",
    "CrtsA -- Cartões amarelos\n",
    "Cartões amarelos\n",
    "CrtV -- Cartões vermelhos\n",
    "Cartões vermelhos\n",
    "Esperado\n",
    "xG -- Gols esperados\n",
    "Totais de xG incluem pênaltis, porém não incluem disputas de pênalti (a menos que mencionado o contrário).\n",
    "Fornecido pela Opta.\n",
    "Uma sublinha indica que existe uma partida cujos dados não estão presentes, contudo, tais dados serão atualizados quando disponíveis.\n",
    "npxG -- xG normal\n",
    "Gols normais previstos\n",
    "Fornecido pela Opta.\n",
    "Uma sublinha indica que existe uma partida cujos dados não estão presentes, contudo, tais dados serão atualizados quando disponíveis.\n",
    "xAG -- Gols Assistidos Esperados\n",
    "Ponto xG seguinte a um passe que auxilia em um chute\n",
    "Fornecido pela Opta.\n",
    "Uma sublinha indica que existe uma partida cujos dados não estão presentes, contudo, tais dados serão atualizados quando disponíveis.\n",
    "npxG+xAG -- npxG + xAG\n",
    "Gols esperados, exceto pênaltis, mais gols assistidos\n",
    "Totais de xG incluem pênaltis, porém não incluem disputas de pênalti (a menos que mencionado o contrário).\n",
    "Fornecido pela Opta.\n",
    "Uma sublinha indica que existe uma partida cujos dados não estão presentes, contudo, tais dados serão atualizados quando disponíveis.\n",
    "Mínimo de 30 minutos jogadores por jogo para se qualificar como líder\n",
    "Progressão\n",
    "PrgC -- Carregadas Progressivas\n",
    "Carrega a bola em direção à linha de gol do adversário a pelo menos 9 metros de seu ponto mais distante nos últimos seis passes, ou qualquer carregada para a área de penalidade. Exclui carregadas que terminam nos 50% do campo defensivo\n",
    "PrgP -- Passes Progressivos\n",
    "Passes Progressivos\n",
    "Passes concluídos que movem a bola em direção à linha de gol do adversário a pelo menos 9 metros de seu ponto mais distante nos últimos seis passes, ou qualquer passe concluído para a área de penalidade. Exclui os passes dos 40% do campo defensivo\n",
    "A cada 90 minutos\n",
    "Gols -- Gols/90\n",
    "Média de gols por 90 minutos\n",
    "Mínimo de 30 minutos jogadores por jogo para se qualificar como líder\n",
    "Assis. -- Assistências/90\n",
    "Assistências a cada 90 minutos\n",
    "Mínimo de 30 minutos jogadores por jogo para se qualificar como líder\n",
    "G+A -- Gols + assistências/90\n",
    "Gols e assistências a cada 90 minutos\n",
    "Mínimo de 30 minutos jogadores por jogo para se qualificar como líder\n",
    "G-PB -- Gols normais/90\n",
    "Gols menos pênaltis batidos a cada 90 minutos\n",
    "Mínimo de 30 minutos jogadores por jogo para se qualificar como líder\n",
    "G+A-PB -- Gols normais + assistências/90\n",
    "Gols mais assistências menos pênaltis batidos a cada 90 minutos\n",
    "Mínimo de 30 minutos jogadores por jogo para se qualificar como líder\n",
    "xG -- xG/90\n",
    "Gols previstos por 90 minutos\n",
    "Totais de xG incluem pênaltis, porém não incluem disputas de pênalti (a menos que mencionado o contrário).\n",
    "Fornecido pela Opta.\n",
    "Uma sublinha indica que existe uma partida cujos dados não estão presentes, contudo, tais dados serão atualizados quando disponíveis.\n",
    "Mínimo de 30 minutos jogadores por jogo para se qualificar como líder\n",
    "xAG -- xAG/90\n",
    "Gols assistidos esperados por cada 90 minutos\n",
    "Fornecido pela Opta.\n",
    "Uma sublinha indica que existe uma partida cujos dados não estão presentes, contudo, tais dados serão atualizados quando disponíveis.\n",
    "Mínimo de 30 minutos jogadores por jogo para se qualificar como líder\n",
    "xG+xAG -- xG + xAG/90\n",
    "Gols esperados mais Gols assistidos por cada 90 minutos\n",
    "Totais de xG incluem pênaltis, porém não incluem disputas de pênalti (a menos que mencionado o contrário).\n",
    "Fornecido pela Opta.\n",
    "Uma sublinha indica que existe uma partida cujos dados não estão presentes, contudo, tais dados serão atualizados quando disponíveis.\n",
    "Mínimo de 30 minutos jogadores por jogo para se qualificar como líder\n",
    "npxG -- npxG/90\n",
    "Gols normais previstos por 90 minutos\n",
    "Fornecido pela Opta.\n",
    "Uma sublinha indica que existe uma partida cujos dados não estão presentes, contudo, tais dados serão atualizados quando disponíveis.\n",
    "Mínimo de 30 minutos jogadores por jogo para se qualificar como líder\n",
    "npxG+xAG -- npxG + xAG\n",
    "Gols esperados, exceto pênaltis, mais gols assistidos por cada 90 minutos\n",
    "Fornecido pela Opta.\n",
    "Uma sublinha indica que existe uma partida cujos dados não estão presentes, contudo, tais dados serão atualizados quando disponíveis.\n",
    "Mínimo de 30 minutos jogadores por jogo para se qualificar como líder"
   ]
  },
  {
   "cell_type": "code",
   "execution_count": 9,
   "metadata": {},
   "outputs": [],
   "source": [
    "import pandas as pd\n",
    "\n",
    "times_liga_b_20_21 = pd.read_excel(\"championship_clubes_20_21.xlsx\", skiprows=1)\n",
    "times_liga_b_21_22 = pd.read_excel(\"championship_clubes_21_22.xlsx\", skiprows=1)\n",
    "times_liga_b_22_23 = pd.read_excel(\"championship_clubes_22_23.xlsx\", skiprows=1)\n",
    "\n",
    "\n",
    "times_liga_a_20_21 = pd.read_excel(\"premier_clubes_20_21.xlsx\", skiprows=1)\n",
    "times_liga_a_21_22 = pd.read_excel(\"premier_clubes_21_22.xlsx\", skiprows=1)\n",
    "times_liga_a_22_23 = pd.read_excel(\"premier_clubes_22_23.xlsx\", skiprows=1)\n",
    "\n",
    "players_liga_b_20_21 = pd.read_excel(\"championship_players_20_21.xlsx\", skiprows=1)\n",
    "players_liga_b_21_22 = pd.read_excel(\"championship_players_21_22.xlsx\", skiprows=1)\n",
    "players_liga_b_22_23 = pd.read_excel(\"championship_players_22_23.xlsx\", skiprows=1)\n",
    "\n",
    "players_liga_a_20_21 = pd.read_excel(\"premier_players_20_21.xlsx\" , skiprows=1)\n",
    "players_liga_a_21_22 = pd.read_excel(\"premier_players_21_22.xlsx\", skiprows=1)\n",
    "players_liga_a_22_23 = pd.read_excel(\"premier_players_22_23.xlsx\", skiprows=1)\n",
    "\n",
    "dfs_times = [times_liga_b_20_21, times_liga_b_21_22, times_liga_b_22_23, times_liga_a_20_21, times_liga_a_21_22, times_liga_a_22_23]\n",
    "dfs_players = [players_liga_b_20_21, players_liga_b_21_22, players_liga_b_22_23, players_liga_a_20_21, players_liga_a_21_22, players_liga_a_22_23]"
   ]
  },
  {
   "cell_type": "code",
   "execution_count": 10,
   "metadata": {},
   "outputs": [
    {
     "data": {
      "text/plain": [
       "52.37083333333334"
      ]
     },
     "execution_count": 10,
     "metadata": {},
     "output_type": "execute_result"
    }
   ],
   "source": [
    "media_gols_times_geral = 0\n",
    "for df in dfs_times:\n",
    "    media_gols_times_geral+= df['Gols'].mean()\n",
    "\n",
    "media_gols_times_geral = media_gols_times_geral / len(dfs_times)\n",
    "media_gols_times_geral"
   ]
  },
  {
   "cell_type": "code",
   "execution_count": 11,
   "metadata": {},
   "outputs": [
    {
     "data": {
      "text/plain": [
       "51.03333333333334"
      ]
     },
     "execution_count": 11,
     "metadata": {},
     "output_type": "execute_result"
    }
   ],
   "source": [
    "media_gols_serie_a = (times_liga_a_20_21['Gols'].mean() + times_liga_a_21_22['Gols'].mean() + times_liga_a_22_23['Gols'].mean()) / 3\n",
    "media_gols_serie_a"
   ]
  },
  {
   "cell_type": "code",
   "execution_count": 12,
   "metadata": {},
   "outputs": [
    {
     "data": {
      "text/plain": [
       "53.708333333333336"
      ]
     },
     "execution_count": 12,
     "metadata": {},
     "output_type": "execute_result"
    }
   ],
   "source": [
    "media_gols_serie_b = (times_liga_b_20_21['Gols'].mean() + times_liga_b_21_22['Gols'].mean() + times_liga_b_22_23['Gols'].mean()) / 3\n",
    "media_gols_serie_b"
   ]
  },
  {
   "cell_type": "code",
   "execution_count": 13,
   "metadata": {},
   "outputs": [
    {
     "data": {
      "image/png": "[encoded data removed]",
      "text/plain": [
       "<Figure size 640x480 with 1 Axes>"
      ]
     },
     "metadata": {},
     "output_type": "display_data"
    }
   ],
   "source": [
    "import matplotlib.pyplot as plt\n",
    "\n",
    "# Suas variáveis\n",
    "medias = [media_gols_times_geral, media_gols_serie_a, media_gols_serie_b]\n",
    "labels = ['Média Gols Times Geral', 'Média Gols Série A', 'Média Gols Série B']\n",
    "\n",
    "# Criação do gráfico de barras\n",
    "plt.bar(labels, medias)\n",
    "\n",
    "# Definição de rótulos para os eixos\n",
    "plt.xlabel('Séries de Futebol')\n",
    "plt.ylabel('Média de Gols')\n",
    "\n",
    "# Exibição do gráfico\n",
    "plt.show()\n"
   ]
  },
  {
   "cell_type": "code",
   "execution_count": null,
   "metadata": {},
   "outputs": [],
   "source": []
  }
 ],
 "metadata": {
  "kernelspec": {
   "display_name": "Python 3",
   "language": "python",
   "name": "python3"
  },
  "language_info": {
   "codemirror_mode": {
    "name": "ipython",
    "version": 3
   },
   "file_extension": ".py",
   "mimetype": "text/x-python",
   "name": "python",
   "nbconvert_exporter": "python",
   "pygments_lexer": "ipython3",
   "version": "3.9.0"
  },
  "orig_nbformat": 4
 },
 "nbformat": 4,
 "nbformat_minor": 2
}
